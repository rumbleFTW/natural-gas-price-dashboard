{
 "cells": [
  {
   "cell_type": "code",
   "execution_count": 45,
   "metadata": {},
   "outputs": [],
   "source": [
    "import tensorflow as tf\n",
    "import pandas as pd\n",
    "import numpy as np\n",
    "import matplotlib.pyplot as plt\n",
    "import snscrape.modules.twitter as sntwitter\n",
    "import re\n",
    "import flair\n",
    "from nltk.corpus import stopwords\n",
    "from scipy.stats import spearmanr"
   ]
  },
  {
   "cell_type": "code",
   "execution_count": 46,
   "metadata": {},
   "outputs": [
    {
     "name": "stdout",
     "output_type": "stream",
     "text": [
      "2022-05-03 23:53:07,795 loading file C:\\Users\\007ra\\.flair\\models\\sentiment-en-mix-distillbert_4.pt\n"
     ]
    }
   ],
   "source": [
    "sentiment_model = flair.models.TextClassifier.load('en-sentiment')"
   ]
  },
  {
   "cell_type": "code",
   "execution_count": 6,
   "metadata": {},
   "outputs": [],
   "source": [
    "def cleanText(text):\n",
    "    whitespace = re.compile(r\"\\s+\")\n",
    "    web_address = re.compile(r\"(?i)http(s):\\/\\/[a-z0-9.~_\\-\\/]+\")\n",
    "    user = re.compile(r\"(?i)@[a-z0-9_]+\")\n",
    "    text = whitespace.sub(' ', text)\n",
    "    text = web_address.sub('', text)\n",
    "    text = user.sub('', text)\n",
    "    text = re.sub(r\"(?:@\\S*|#\\S*|http(?=.*://)\\S*)\", \"\", text)\n",
    "    return text"
   ]
  },
  {
   "cell_type": "code",
   "execution_count": 7,
   "metadata": {},
   "outputs": [
    {
     "name": "stdout",
     "output_type": "stream",
     "text": [
      "           Day  Price\n",
      "6200  20210813   3.95\n",
      "6201  20210816   3.93\n",
      "6202  20210817   3.92\n",
      "6203  20210818   3.86\n",
      "6204  20210819   3.83\n",
      "6205  20210820   3.94\n",
      "6206  20210823   3.93\n",
      "6207  20210824   3.95\n",
      "6208  20210825   4.03\n",
      "6209  20210826   4.07\n",
      "6210  20210827   4.35\n",
      "6211  20210830   4.25\n",
      "6212  20210831   4.33\n",
      "6213  20210901   4.45\n",
      "6214  20210902   4.65\n",
      "6215  20210903   4.77\n",
      "6216  20210907   4.71\n",
      "6217  20210908   4.66\n",
      "6218  20210909   4.97\n",
      "6219  20210910   5.13\n",
      "6220  20210913   5.21\n",
      "6221  20210914   5.39\n",
      "6222  20210915   5.66\n",
      "6223  20210916   5.52\n",
      "6224  20210917   5.32\n",
      "6225  20210920   5.25\n",
      "6226  20210921   4.96\n",
      "6227  20210922   4.92\n",
      "6228  20210923   4.94\n",
      "6229  20210924   5.10\n",
      "6230  20210927   5.53\n",
      "6231  20210928   5.94\n",
      "6232  20210929   5.73\n",
      "6233  20210930   5.58\n",
      "6234  20211001   5.61\n",
      "6235  20211004   5.80\n",
      "6236  20211005   6.37\n",
      "6237  20211006   6.00\n",
      "6238  20211007   5.71\n",
      "6239  20211008   5.46\n",
      "6240  20211011   5.46\n",
      "6241  20211012   5.34\n",
      "6242  20211013   5.56\n",
      "6243  20211014   5.92\n",
      "6244  20211015   5.44\n",
      "6245  20211018   5.01\n",
      "6246  20211019   4.81\n",
      "6247  20211020   4.87\n",
      "6248  20211021   4.94\n",
      "6249  20211022   5.10\n"
     ]
    }
   ],
   "source": [
    "dataFrame = pd.read_csv('./data/daily.csv')\n",
    "dataFrame = dataFrame[6200:6250]\n",
    "print(dataFrame)"
   ]
  },
  {
   "cell_type": "code",
   "execution_count": 34,
   "metadata": {},
   "outputs": [
    {
     "data": {
      "text/plain": [
       "Sentence: \"the food was great !\" → POSITIVE (0.9961)"
      ]
     },
     "execution_count": 34,
     "metadata": {},
     "output_type": "execute_result"
    }
   ],
   "source": [
    "sentence = flair.data.Sentence(cleanText('the food was great!'))\n",
    "sentiment_model.predict(sentence)\n",
    "sentence"
   ]
  },
  {
   "cell_type": "code",
   "execution_count": 43,
   "metadata": {},
   "outputs": [
    {
     "data": {
      "text/plain": [
       "Sentence: \"gas prices are increasing due to war\" → NEGATIVE (0.9882)"
      ]
     },
     "execution_count": 43,
     "metadata": {},
     "output_type": "execute_result"
    }
   ],
   "source": [
    "sentence = flair.data.Sentence('gas prices are increasing due to war')\n",
    "sentiment_model.predict(sentence)\n",
    "sentence"
   ]
  },
  {
   "cell_type": "code",
   "execution_count": 44,
   "metadata": {},
   "outputs": [
    {
     "name": "stdout",
     "output_type": "stream",
     "text": [
      "-0.046875\n"
     ]
    }
   ],
   "source": [
    "testimonial = TextBlob(\"gas prices are increasing due to war\")\n",
    "print(testimonial.sentiment.polarity*testimonial.sentiment.subjectivity)"
   ]
  },
  {
   "cell_type": "code",
   "execution_count": 20,
   "metadata": {},
   "outputs": [
    {
     "name": "stdout",
     "output_type": "stream",
     "text": [
      "checking for 2021-08-13 - 2021-08-16 The sentiment is -0.5403736680746078\n",
      "checking for 2021-08-16 - 2021-08-17 The sentiment is -0.5155494709809622\n",
      "checking for 2021-08-17 - 2021-08-18 The sentiment is -0.9985878765583038\n",
      "checking for 2021-08-18 - 2021-08-19 The sentiment is 0.03554887121373957\n",
      "checking for 2021-08-19 - 2021-08-20 The sentiment is 0.47822482883930206\n",
      "checking for 2021-08-20 - 2021-08-23 The sentiment is -0.48193468153476715\n",
      "checking for 2021-08-23 - 2021-08-24 The sentiment is -0.997829258441925\n",
      "checking for 2021-08-24 - 2021-08-25 The sentiment is -0.17905185222625733\n",
      "checking for 2021-08-25 - 2021-08-26 The sentiment is 0.988865315914154\n",
      "checking for 2021-08-26 - 2021-08-27 The sentiment is -0.5335312128067017\n",
      "checking for 2021-08-27 - 2021-08-30 The sentiment is -0.8252368420362473\n",
      "checking for 2021-08-30 - 2021-08-31 The sentiment is -0.4436781406402588\n",
      "checking for 2021-08-31 - 2021-09-01 The sentiment is -0.2455471158027649\n",
      "checking for 2021-09-01 - 2021-09-02 The sentiment is -0.5743308544158936\n",
      "checking for 2021-09-02 - 2021-09-03 The sentiment is -0.5314682324727377\n",
      "checking for 2021-09-03 - 2021-09-07 The sentiment is -0.36723456780115765\n",
      "checking for 2021-09-07 - 2021-09-08 The sentiment is -0.5498728553454081\n",
      "checking for 2021-09-08 - 2021-09-09 The sentiment is -0.27468671401341754\n",
      "checking for 2021-09-09 - 2021-09-10 The sentiment is -0.5224344313144684\n",
      "checking for 2021-09-10 - 2021-09-13 The sentiment is -0.6971258868773779\n",
      "checking for 2021-09-13 - 2021-09-14 The sentiment is -0.12330060700575511\n",
      "checking for 2021-09-14 - 2021-09-15 The sentiment is -0.6484119296073914\n",
      "checking for 2021-09-15 - 2021-09-16 The sentiment is -0.3594307949145635\n",
      "checking for 2021-09-16 - 2021-09-17 The sentiment is -0.5860082308451334\n",
      "checking for 2021-09-17 - 2021-09-20 The sentiment is -0.4573943167924881\n",
      "checking for 2021-09-20 - 2021-09-21 The sentiment is -0.5628465463717779\n",
      "checking for 2021-09-21 - 2021-09-22 The sentiment is -0.3547457456588745\n",
      "checking for 2021-09-22 - 2021-09-23 The sentiment is -0.2845674653848012\n",
      "checking for 2021-09-23 - 2021-09-24 The sentiment is -0.7284497718016306\n",
      "checking for 2021-09-24 - 2021-09-27 The sentiment is -0.2851281811793645\n",
      "checking for 2021-09-27 - 2021-09-28 The sentiment is -0.379838968316714\n",
      "checking for 2021-09-28 - 2021-09-29 The sentiment is -0.679276262720426\n",
      "checking for 2021-09-29 - 2021-09-30 The sentiment is -0.396062895655632\n",
      "checking for 2021-09-30 - 2021-10-01 The sentiment is -0.25835171341896057\n",
      "checking for 2021-10-01 - 2021-10-04 The sentiment is -0.6058760633071264\n",
      "checking for 2021-10-04 - 2021-10-05 The sentiment is -0.045297021667162575\n",
      "checking for 2021-10-05 - 2021-10-06 The sentiment is -0.3937199016412099\n",
      "checking for 2021-10-06 - 2021-10-07 The sentiment is -0.26290645202000934\n",
      "checking for 2021-10-07 - 2021-10-08 The sentiment is -0.2527629832426707\n",
      "checking for 2021-10-08 - 2021-10-11 The sentiment is -0.40297343333562213\n",
      "checking for 2021-10-11 - 2021-10-12 The sentiment is -0.5887333701054255\n",
      "checking for 2021-10-12 - 2021-10-13 The sentiment is -0.44764027496178943\n",
      "checking for 2021-10-13 - 2021-10-14 The sentiment is -0.1361673523982366\n",
      "checking for 2021-10-14 - 2021-10-15 The sentiment is -0.23340210815270743\n",
      "checking for 2021-10-15 - 2021-10-18 The sentiment is -0.4158426026503245\n",
      "checking for 2021-10-18 - 2021-10-19 The sentiment is -0.14757720629374185\n",
      "checking for 2021-10-19 - 2021-10-20 The sentiment is -0.11353972057501475\n",
      "checking for 2021-10-20 - 2021-10-21 The sentiment is -0.12118798991044362\n",
      "checking for 2021-10-21 - 2021-10-22 The sentiment is -0.3790622254212697\n"
     ]
    }
   ],
   "source": [
    "data = {}\n",
    "MAX_TWEETS = 25\n",
    "\n",
    "\n",
    "for n in range (1, len(dataFrame['Day'])):\n",
    "    PREV = str(list(dataFrame.Day)[n-1])[:4]+'-'+str(list(dataFrame.Day)[n-1])[4:6]+'-'+str(list(dataFrame.Day)[n-1])[6:]\n",
    "    PRES = str(list(dataFrame.Day)[n])[:4]+'-'+str(list(dataFrame.Day)[n])[4:6]+'-'+str(list(dataFrame.Day)[n])[6:]\n",
    "    QUERY = f\"natural gas (natural OR gas OR import OR export OR price) until:{PRES} since:{PREV} -filter:links -filter:replies\"\n",
    "    print(f'checking for {PREV} - {PRES}', end = ' ')\n",
    "    curr = 0.0\n",
    "    nums = 0\n",
    "    for i, tweet in enumerate(sntwitter.TwitterSearchScraper(QUERY).get_items()):\n",
    "        nums += 1\n",
    "        if i>MAX_TWEETS:\n",
    "            break\n",
    "        sentence = flair.data.Sentence(cleanText(tweet.content))\n",
    "        sentiment_model.predict(sentence)\n",
    "        try:\n",
    "            if(sentence.labels[0].value == 'POSITIVE'):\n",
    "                curr += sentence.labels[0].score\n",
    "            elif(sentence.labels[0].value == 'NEGATIVE'):\n",
    "                curr -= sentence.labels[0].score\n",
    "            else:\n",
    "                print(f'The sentiment is {sentence.labels[0].value}')\n",
    "        except:\n",
    "            pass\n",
    "    print(f\"The sentiment is {curr/nums}\")\n",
    "    dataFrame.loc[dataFrame.Price == list(dataFrame['Price'])[n], 'Sentiment'] = curr/nums\n",
    "    data[PRES] = curr/nums"
   ]
  },
  {
   "cell_type": "code",
   "execution_count": 21,
   "metadata": {},
   "outputs": [
    {
     "name": "stdout",
     "output_type": "stream",
     "text": [
      "           Day  Price  Sentiment\n",
      "6200  20210813   3.95  -0.997829\n",
      "6201  20210816   3.93  -0.481935\n",
      "6202  20210817   3.92  -0.515549\n",
      "6203  20210818   3.86  -0.998588\n",
      "6204  20210819   3.83   0.035549\n",
      "6205  20210820   3.94   0.478225\n",
      "6206  20210823   3.93  -0.481935\n",
      "6207  20210824   3.95  -0.997829\n",
      "6208  20210825   4.03  -0.179052\n",
      "6209  20210826   4.07   0.988865\n",
      "6210  20210827   4.35  -0.533531\n",
      "6211  20210830   4.25  -0.825237\n",
      "6212  20210831   4.33  -0.443678\n",
      "6213  20210901   4.45  -0.245547\n",
      "6214  20210902   4.65  -0.574331\n",
      "6215  20210903   4.77  -0.531468\n",
      "6216  20210907   4.71  -0.367235\n",
      "6217  20210908   4.66  -0.549873\n",
      "6218  20210909   4.97  -0.274687\n",
      "6219  20210910   5.13  -0.522434\n",
      "6220  20210913   5.21  -0.697126\n",
      "6221  20210914   5.39  -0.123301\n",
      "6222  20210915   5.66  -0.648412\n",
      "6223  20210916   5.52  -0.359431\n",
      "6224  20210917   5.32  -0.586008\n",
      "6225  20210920   5.25  -0.457394\n",
      "6226  20210921   4.96  -0.562847\n",
      "6227  20210922   4.92  -0.354746\n",
      "6228  20210923   4.94  -0.121188\n",
      "6229  20210924   5.10  -0.379062\n",
      "6230  20210927   5.53  -0.285128\n",
      "6231  20210928   5.94  -0.379839\n",
      "6232  20210929   5.73  -0.679276\n",
      "6233  20210930   5.58  -0.396063\n",
      "6234  20211001   5.61  -0.258352\n",
      "6235  20211004   5.80  -0.605876\n",
      "6236  20211005   6.37  -0.045297\n",
      "6237  20211006   6.00  -0.393720\n",
      "6238  20211007   5.71  -0.262906\n",
      "6239  20211008   5.46  -0.402973\n",
      "6240  20211011   5.46  -0.402973\n",
      "6241  20211012   5.34  -0.588733\n",
      "6242  20211013   5.56  -0.447640\n",
      "6243  20211014   5.92  -0.136167\n",
      "6244  20211015   5.44  -0.233402\n",
      "6245  20211018   5.01  -0.415843\n",
      "6246  20211019   4.81  -0.147577\n",
      "6247  20211020   4.87  -0.113540\n",
      "6248  20211021   4.94  -0.121188\n",
      "6249  20211022   5.10  -0.379062\n"
     ]
    }
   ],
   "source": [
    "print(dataFrame)"
   ]
  },
  {
   "cell_type": "code",
   "execution_count": 22,
   "metadata": {},
   "outputs": [
    {
     "data": {
      "image/png": "[encoded data removed]",
      "text/plain": [
       "<Figure size 864x432 with 1 Axes>"
      ]
     },
     "metadata": {
      "needs_background": "light"
     },
     "output_type": "display_data"
    }
   ],
   "source": [
    "avg = sum(list(dataFrame.Price))/len(list(dataFrame.Price))\n",
    "sen = list(dataFrame.Sentiment)\n",
    "price = list(dataFrame.Price)\n",
    "for i in range (len(sen)):\n",
    "    sen[i] = -(sen[i]*avg)+3.2\n",
    "plt.figure(figsize=(12, 6))\n",
    "l1 = plt.plot(sen, lw = 2, color='red', alpha=0.5, linestyle='dashed')\n",
    "l2 = plt.plot(price, lw = 5, color='blue', alpha=0.5)\n",
    "plt.title('Sentiment VS Price')\n",
    "plt.show()"
   ]
  },
  {
   "cell_type": "code",
   "execution_count": 23,
   "metadata": {},
   "outputs": [
    {
     "data": {
      "text/plain": [
       "SpearmanrResult(correlation=-0.08635926993275697, pvalue=0.550959541709495)"
      ]
     },
     "execution_count": 23,
     "metadata": {},
     "output_type": "execute_result"
    }
   ],
   "source": [
    "spearmanr(sen, price)"
   ]
  }
 ],
 "metadata": {
  "interpreter": {
   "hash": "e38c6d658e3c4e97a4d48d96dcbbb50367a88e38ba291af5da90eb5fcad12b1b"
  },
  "kernelspec": {
   "display_name": "Python 3.9.12 ('dataScience')",
   "language": "python",
   "name": "python3"
  },
  "language_info": {
   "codemirror_mode": {
    "name": "ipython",
    "version": 3
   },
   "file_extension": ".py",
   "mimetype": "text/x-python",
   "name": "python",
   "nbconvert_exporter": "python",
   "pygments_lexer": "ipython3",
   "version": "3.9.12"
  },
  "orig_nbformat": 4
 },
 "nbformat": 4,
 "nbformat_minor": 2
}
